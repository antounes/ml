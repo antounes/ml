{
 "cells": [
  {
   "cell_type": "markdown",
   "id": "4a9b7f08-4d71-4845-af91-a544e55ae600",
   "metadata": {},
   "source": [
    "# Classification"
   ]
  },
  {
   "cell_type": "markdown",
   "id": "6e3e1dac-e157-4d1f-bd50-8885c4f0bbe5",
   "metadata": {},
   "source": [
    "## MNIST"
   ]
  },
  {
   "cell_type": "code",
   "execution_count": 1,
   "id": "4b44e41d-ba49-4fd2-bbed-0ca406184385",
   "metadata": {},
   "outputs": [
    {
     "data": {
      "text/plain": [
       "dict_keys(['data', 'target', 'frame', 'categories', 'feature_names', 'target_names', 'DESCR', 'details', 'url'])"
      ]
     },
     "execution_count": 1,
     "metadata": {},
     "output_type": "execute_result"
    }
   ],
   "source": [
    "# Load MNIST dataset\n",
    "\n",
    "from sklearn.datasets import fetch_openml\n",
    "mnist = fetch_openml(\"mnist_784\", version=1)\n",
    "mnist.keys()"
   ]
  },
  {
   "cell_type": "code",
   "execution_count": 2,
   "id": "38b2d12d-52f7-4d16-bd4b-074031981ea1",
   "metadata": {},
   "outputs": [],
   "source": [
    "X, y = mnist[\"data\"], mnist[\"target\"]"
   ]
  },
  {
   "cell_type": "code",
   "execution_count": 3,
   "id": "8240295e-7e99-4480-b616-d90c49f034e3",
   "metadata": {},
   "outputs": [
    {
     "data": {
      "image/png": "[encoded data removed]",
      "text/plain": [
       "<Figure size 432x288 with 1 Axes>"
      ]
     },
     "metadata": {
      "needs_background": "light"
     },
     "output_type": "display_data"
    }
   ],
   "source": [
    "# Look at one example\n",
    "import numpy as np\n",
    "import matplotlib as mpl\n",
    "import matplotlib.pyplot as plt\n",
    "\n",
    "some_digit = np.array(X.iloc[0])\n",
    "some_digit_image = some_digit.reshape(28, 28)\n",
    "\n",
    "plt.imshow(some_digit_image, cmap = mpl.cm.binary, interpolation=\"nearest\")\n",
    "plt.axis(\"off\")\n",
    "plt.show()"
   ]
  },
  {
   "cell_type": "code",
   "execution_count": 4,
   "id": "12c8e26a-3bef-4f46-8926-8339d2fc0305",
   "metadata": {},
   "outputs": [
    {
     "data": {
      "text/plain": [
       "'5'"
      ]
     },
     "execution_count": 4,
     "metadata": {},
     "output_type": "execute_result"
    }
   ],
   "source": [
    "y[0]"
   ]
  },
  {
   "cell_type": "code",
   "execution_count": 5,
   "id": "9ed8667d-3e36-4eae-9c44-92710869c2ed",
   "metadata": {},
   "outputs": [],
   "source": [
    "y = y.astype(np.uint8)"
   ]
  },
  {
   "cell_type": "code",
   "execution_count": 6,
   "id": "68d78e91-5386-438f-9d51-bbdd9ebf19e0",
   "metadata": {},
   "outputs": [],
   "source": [
    "# Create train and test sets\n",
    "\n",
    "X_train, X_test, y_train, y_test = X[:60000], X[60000:], y[:60000], y[60000:]"
   ]
  },
  {
   "cell_type": "markdown",
   "id": "fe6e0d8d-e934-4df5-9415-d4cf82850b64",
   "metadata": {},
   "source": [
    "## Training a Binary Classifier"
   ]
  },
  {
   "cell_type": "code",
   "execution_count": 7,
   "id": "9368286d-e6ef-4ae0-9c55-4a4542142ef8",
   "metadata": {},
   "outputs": [],
   "source": [
    "# Let's simplify the problem for now and only try to identify one digit\n",
    "# This detector will be an example of a binary classifier\n",
    "# Let's create the target vectors for this classification task\n",
    "\n",
    "y_train_5 = (y_train == 5) # True for all 5s, False for all other digits\n",
    "y_test_5 = (y_test == 5)"
   ]
  },
  {
   "cell_type": "code",
   "execution_count": 8,
   "id": "e23d8353-2039-476d-a343-28fbf4788ebd",
   "metadata": {},
   "outputs": [
    {
     "data": {
      "text/plain": [
       "SGDClassifier(random_state=42)"
      ]
     },
     "execution_count": 8,
     "metadata": {},
     "output_type": "execute_result"
    }
   ],
   "source": [
    "# Let's create a Stochastic Gradient Descent classifier\n",
    "\n",
    "from sklearn.linear_model import SGDClassifier\n",
    "\n",
    "sgd_clf = SGDClassifier(random_state=42)\n",
    "sgd_clf.fit(X_train, y_train_5)"
   ]
  },
  {
   "cell_type": "code",
   "execution_count": 9,
   "id": "e26d5882-54ef-4aee-af3d-f70166414491",
   "metadata": {},
   "outputs": [
    {
     "name": "stderr",
     "output_type": "stream",
     "text": [
      "/usr/local/lib/python3.9/site-packages/sklearn/base.py:445: UserWarning: X does not have valid feature names, but SGDClassifier was fitted with feature names\n",
      "  warnings.warn(\n"
     ]
    },
    {
     "data": {
      "text/plain": [
       "array([ True])"
      ]
     },
     "execution_count": 9,
     "metadata": {},
     "output_type": "execute_result"
    }
   ],
   "source": [
    "sgd_clf.predict([some_digit])"
   ]
  },
  {
   "cell_type": "markdown",
   "id": "fe4dc917-8399-4af5-b80f-1597dad8ede4",
   "metadata": {},
   "source": [
    "## Performance Measures"
   ]
  },
  {
   "cell_type": "markdown",
   "id": "7ccc25bb-01cc-4c0f-be95-d6541b516062",
   "metadata": {},
   "source": [
    "### Measuring Accuracy Using Cross-Validation"
   ]
  },
  {
   "cell_type": "code",
   "execution_count": 10,
   "id": "1d7351ac-4b93-4f71-bb1c-f20eebd242f3",
   "metadata": {},
   "outputs": [
    {
     "name": "stdout",
     "output_type": "stream",
     "text": [
      "0.95035\n",
      "0.96035\n",
      "0.9604\n"
     ]
    }
   ],
   "source": [
    "# Implementing Cross-Validation\n",
    "\n",
    "from sklearn.model_selection import StratifiedKFold\n",
    "from sklearn.base import clone\n",
    "\n",
    "skfolds = StratifiedKFold(n_splits=3)\n",
    "\n",
    "for train_index, test_index in skfolds.split(X_train, y_train_5):\n",
    "    clone_clf = clone(sgd_clf)\n",
    "    X_train_folds = X_train.iloc[train_index]\n",
    "    y_train_folds = y_train_5[train_index]\n",
    "    X_test_fold = X_train.iloc[test_index]\n",
    "    y_test_fold = y_train_5[test_index]\n",
    "    \n",
    "    clone_clf.fit(X_train_folds, y_train_folds)\n",
    "    y_pred = clone_clf.predict(X_test_fold)\n",
    "    n_correct = sum(y_pred == y_test_fold)\n",
    "    print(n_correct / len(y_pred))"
   ]
  },
  {
   "cell_type": "code",
   "execution_count": 11,
   "id": "1f357b18-0d86-4a81-a285-0050f0197584",
   "metadata": {},
   "outputs": [
    {
     "data": {
      "text/plain": [
       "array([0.87365, 0.85835, 0.8689 ])"
      ]
     },
     "execution_count": 11,
     "metadata": {},
     "output_type": "execute_result"
    }
   ],
   "source": [
    "# Let's evaluate the SGDClassifier using K-fold cross-validation\n",
    "\n",
    "from sklearn.model_selection import cross_val_score\n",
    "cross_val_score(sgd_clf, X_train, y_train, cv=3, scoring=\"accuracy\")"
   ]
  },
  {
   "cell_type": "code",
   "execution_count": 12,
   "id": "d42ebc2e-8775-49c7-9fd6-735366a355f8",
   "metadata": {},
   "outputs": [
    {
     "data": {
      "text/plain": [
       "array([0.91125, 0.90855, 0.90915])"
      ]
     },
     "execution_count": 12,
     "metadata": {},
     "output_type": "execute_result"
    }
   ],
   "source": [
    "# How does this accuracy compares with a dumb classifier \n",
    "# that just classifies every single image in the \"not-5\" class ?\n",
    "\n",
    "from sklearn.base import BaseEstimator\n",
    "\n",
    "class Never5Classifier(BaseEstimator):\n",
    "    def fit(self, X, y=None):\n",
    "        pass\n",
    "    def predict(self, X):\n",
    "        return np.zeros((len(X), 1), dtype=bool)\n",
    "    \n",
    "never_5_clf = Never5Classifier()\n",
    "cross_val_score(never_5_clf, X_train, y_train_5, cv=3, scoring=\"accuracy\")\n",
    "\n",
    "# Above 90 % accuracy (ratio of correct predictions) on all cross-validation folds ?\n",
    "# This is simply because only about 10 % of the images are 5s, so if you always guess that an image is not 5\n",
    "# You will be right about 90 % of the time\n",
    "# Accuracy is generally not the preferred performance measure for classifiers, especially when dealing with skewed datasets"
   ]
  },
  {
   "cell_type": "markdown",
   "id": "0fbff6d0-1728-4177-a902-18bd7f29b59d",
   "metadata": {},
   "source": [
    "### Confusion Matrix"
   ]
  },
  {
   "cell_type": "code",
   "execution_count": 13,
   "id": "7c6364f3-a23b-4996-9595-58877dd27eac",
   "metadata": {},
   "outputs": [],
   "source": [
    "# Let's make predictions to compute the confusion matrix\n",
    "\n",
    "from sklearn.model_selection import cross_val_predict\n",
    "\n",
    "y_train_pred = cross_val_predict(sgd_clf, X_train, y_train_5, cv=3)"
   ]
  },
  {
   "cell_type": "code",
   "execution_count": 14,
   "id": "125df53a-cdbe-4deb-8bd6-dc16ccc9b3d2",
   "metadata": {},
   "outputs": [
    {
     "data": {
      "text/plain": [
       "array([[53892,   687],\n",
       "       [ 1891,  3530]])"
      ]
     },
     "execution_count": 14,
     "metadata": {},
     "output_type": "execute_result"
    }
   ],
   "source": [
    "# Compute confusion matrix\n",
    "\n",
    "from sklearn.metrics import confusion_matrix\n",
    "confusion_matrix(y_train_5, y_train_pred)"
   ]
  },
  {
   "cell_type": "markdown",
   "id": "c64496bb-b2d6-4a2e-8094-3899a67dbf99",
   "metadata": {},
   "source": [
    "### Precision and Recall"
   ]
  },
  {
   "cell_type": "code",
   "execution_count": 15,
   "id": "93f9b171-2b1e-4b2c-96e1-2c4a997c89d2",
   "metadata": {},
   "outputs": [
    {
     "name": "stdout",
     "output_type": "stream",
     "text": [
      "Precision: 0.8370879772350012\n",
      "Recall: 0.6511713705958311\n"
     ]
    }
   ],
   "source": [
    "from sklearn.metrics import precision_score, recall_score\n",
    "\n",
    "print(\"Precision:\", precision_score(y_train_5, y_train_pred))\n",
    "print(\"Recall:\", recall_score(y_train_5, y_train_pred))"
   ]
  },
  {
   "cell_type": "code",
   "execution_count": 16,
   "id": "7d30e189-21f2-409c-bf2a-ae78a3685a60",
   "metadata": {},
   "outputs": [
    {
     "data": {
      "text/plain": [
       "0.7325171197343846"
      ]
     },
     "execution_count": 16,
     "metadata": {},
     "output_type": "execute_result"
    }
   ],
   "source": [
    "# Combine precision and recall and get F1-score\n",
    "\n",
    "from sklearn.metrics import f1_score\n",
    "f1_score(y_train_5, y_train_pred)"
   ]
  },
  {
   "cell_type": "markdown",
   "id": "58cc29f8-1a1f-4d00-8a89-f17bc4f7c1b4",
   "metadata": {},
   "source": [
    "### Precision / Recall Tradeoff"
   ]
  },
  {
   "cell_type": "code",
   "execution_count": 17,
   "id": "26ed38d1-e0ed-416c-8624-ecef7e7cd078",
   "metadata": {},
   "outputs": [
    {
     "name": "stdout",
     "output_type": "stream",
     "text": [
      "[2164.22030239]\n",
      "Threshold: 0\n",
      "[ True]\n",
      "Threshold: 8000\n",
      "[False]\n"
     ]
    },
    {
     "name": "stderr",
     "output_type": "stream",
     "text": [
      "/usr/local/lib/python3.9/site-packages/sklearn/base.py:445: UserWarning: X does not have valid feature names, but SGDClassifier was fitted with feature names\n",
      "  warnings.warn(\n"
     ]
    }
   ],
   "source": [
    "# Let's return a score for each instance instead of a prediction\n",
    "y_scores = sgd_clf.decision_function([some_digit])\n",
    "print(y_scores)\n",
    "\n",
    "# Let's set an artificial classification threshold to 0\n",
    "threshold = 0\n",
    "print(\"Threshold:\", threshold)\n",
    "y_some_digit_pred = (y_scores > threshold)\n",
    "print(y_some_digit_pred)\n",
    "\n",
    "# Let's now raise the threshold to 8000\n",
    "threshold = 8000\n",
    "print(\"Threshold:\", threshold)\n",
    "y_some_digit_pred = (y_scores > threshold)\n",
    "print(y_some_digit_pred)"
   ]
  },
  {
   "cell_type": "code",
   "execution_count": 18,
   "id": "994cece7-66b9-4d8c-a2f6-2b9829ee9aec",
   "metadata": {},
   "outputs": [],
   "source": [
    "# Deciding which threshold to use\n",
    "# Get scores of all instances in the training set\n",
    "\n",
    "y_scores = cross_val_predict(sgd_clf, X_train, y_train_5, cv=3, method=\"decision_function\")"
   ]
  },
  {
   "cell_type": "code",
   "execution_count": 19,
   "id": "66827069-5743-4976-85eb-eff8e1407de0",
   "metadata": {},
   "outputs": [],
   "source": [
    "# Compute precision and recall for all possible thresholds\n",
    "\n",
    "from sklearn.metrics import precision_recall_curve\n",
    "precisions, recalls, thresholds = precision_recall_curve(y_train_5, y_scores)"
   ]
  },
  {
   "cell_type": "code",
   "execution_count": 20,
   "id": "2b9baa18-ffd3-4810-abfb-1fd0572c5cf1",
   "metadata": {},
   "outputs": [
    {
     "data": {
      "image/png": "[encoded data removed]",
      "text/plain": [
       "<Figure size 864x288 with 1 Axes>"
      ]
     },
     "metadata": {
      "needs_background": "light"
     },
     "output_type": "display_data"
    }
   ],
   "source": [
    "# Plot precision and recall as functions of the threshold\n",
    "\n",
    "import matplotlib.pyplot as plt\n",
    "\n",
    "def plot_precision_recall_vs_threshold(precisions, recalls, thresholds):\n",
    "    plt.plot(thresholds, precisions[:-1], \"b--\", label=\"Precision\")\n",
    "    plt.plot(thresholds, recalls[:-1], \"g-\", label=\"Recall\")\n",
    "    plt.legend(loc=\"center right\")\n",
    "    plt.xlabel(\"Threshold\")\n",
    "    plt.grid(True)\n",
    "    plt.axis([-50000, 50000, 0, 1])\n",
    "    \n",
    "recall_90_precision = recalls[np.argmax(precisions>=0.9)]\n",
    "threshold_90_precision = thresholds[np.argmax(precisions>=0.9)]\n",
    "\n",
    "plt.figure(figsize=(12,4))\n",
    "plot_precision_recall_vs_threshold(precisions, recalls, thresholds)\n",
    "plt.plot([threshold_90_precision, threshold_90_precision], [0., 0.9], \"r:\")\n",
    "plt.plot([-50000, threshold_90_precision], [.9, .9], \"r:\")\n",
    "plt.plot([-50000, threshold_90_precision], [recall_90_precision, recall_90_precision], \"r:\")\n",
    "plt.plot([threshold_90_precision], [.9], \"ro\")\n",
    "plt.plot([threshold_90_precision], [recall_90_precision], \"ro\")\n",
    "plt.show()"
   ]
  },
  {
   "cell_type": "code",
   "execution_count": 21,
   "id": "17593a09-78d8-43bb-8db5-5722bdd6825d",
   "metadata": {},
   "outputs": [
    {
     "data": {
      "image/png": "[encoded data removed]",
      "text/plain": [
       "<Figure size 576x432 with 1 Axes>"
      ]
     },
     "metadata": {
      "needs_background": "light"
     },
     "output_type": "display_data"
    }
   ],
   "source": [
    "# Plot precision as a function of the recall\n",
    "\n",
    "def plot_precision_vs_recall(precisions, recalls):\n",
    "    plt.plot(recalls, precisions, \"b-\", linewidth=2)\n",
    "    plt.xlabel(\"Recall\")\n",
    "    plt.ylabel(\"Precision\")\n",
    "    plt.axis([0, 1, 0, 1])\n",
    "    plt.grid(True)\n",
    "    \n",
    "plt.figure(figsize=(8,6))\n",
    "plot_precision_vs_recall(precisions, recalls)\n",
    "plt.plot([recall_90_precision, recall_90_precision], [0., .9], \"r:\")\n",
    "plt.plot([0.0, recall_90_precision], [.9, .9], \"r:\")\n",
    "plt.plot([recall_90_precision], [.9], \"ro\")\n",
    "plt.show()"
   ]
  },
  {
   "cell_type": "code",
   "execution_count": 22,
   "id": "7a3ae396-9f26-4c13-bdd4-8ea63857e61e",
   "metadata": {},
   "outputs": [],
   "source": [
    "# Let's suppose we decide to aim for 90 % precision.\n",
    "# Let's search for the lowest threshold that gives at least 90% precision\n",
    "\n",
    "threshold_90_precision = thresholds[np.argmax(precisions>=0.9)]"
   ]
  },
  {
   "cell_type": "code",
   "execution_count": 23,
   "id": "ac36a41e-e620-40f9-b1f7-74a96e7de627",
   "metadata": {},
   "outputs": [],
   "source": [
    "# To make predictions (on the training set for now), instead of calling the classifier's predict() method, let's use this threshold\n",
    "\n",
    "y_train_pred_90 = (y_scores >= threshold_90_precision)"
   ]
  },
  {
   "cell_type": "code",
   "execution_count": 24,
   "id": "723949b9-b4e9-4441-8e93-825f72831748",
   "metadata": {},
   "outputs": [
    {
     "name": "stdout",
     "output_type": "stream",
     "text": [
      "Precision with 90% precision threshold: 0.90\n",
      "Recall with 90% precision threshold: 0.48\n"
     ]
    }
   ],
   "source": [
    "# Let's check these prediction's precision and recall\n",
    "\n",
    "print(\"Precision with 90% precision threshold: {:.2f}\".format(precision_score(y_train_5, y_train_pred_90)))\n",
    "print(\"Recall with 90% precision threshold: {:.2f}\".format(recall_score(y_train_5, y_train_pred_90)))"
   ]
  },
  {
   "cell_type": "markdown",
   "id": "b6affd5f-f4f7-4481-b28d-5b73810cb163",
   "metadata": {},
   "source": [
    "### The ROC Curve"
   ]
  },
  {
   "cell_type": "code",
   "execution_count": 25,
   "id": "e6b22d4d-c367-4cd2-b011-0494fbff1500",
   "metadata": {},
   "outputs": [],
   "source": [
    "from sklearn.metrics import roc_curve\n",
    "\n",
    "fpr, tpr, thresholds = roc_curve(y_train_5, y_scores)"
   ]
  },
  {
   "cell_type": "code",
   "execution_count": 26,
   "id": "ff93666d-bd22-4374-8fb9-4992387b3fca",
   "metadata": {},
   "outputs": [],
   "source": [
    "def plot_roc_curve(fpr, tpr, label=None):\n",
    "    plt.plot(fpr, tpr, linewidth=2, label=label)\n",
    "    plt.plot([0, 1], [0, 1], \"k--\") # dashed diagonal\n",
    "    plt.axis([0, 1, 0, 1])\n",
    "    plt.xlabel(\"False Positive Rate\")\n",
    "    plt.ylabel(\"True Positive Rate\")\n",
    "    plt.grid(True)"
   ]
  },
  {
   "cell_type": "code",
   "execution_count": 27,
   "id": "5f13dc41-0437-4c02-8b62-4f1045e370b0",
   "metadata": {},
   "outputs": [
    {
     "data": {
      "image/png": "[encoded data removed]",
      "text/plain": [
       "<Figure size 576x432 with 1 Axes>"
      ]
     },
     "metadata": {
      "needs_background": "light"
     },
     "output_type": "display_data"
    }
   ],
   "source": [
    "plt.figure(figsize=(8,6))\n",
    "plot_roc_curve(fpr, tpr)\n",
    "fpr_90 = fpr[np.argmax(tpr >= recall_90_precision)]\n",
    "plt.plot([fpr_90, fpr_90], [0., recall_90_precision], \"r:\")\n",
    "plt.plot([0.0, fpr_90], [recall_90_precision, recall_90_precision], \"r:\")\n",
    "plt.plot([fpr_90], [recall_90_precision], \"ro\")\n",
    "plt.show()"
   ]
  },
  {
   "cell_type": "code",
   "execution_count": 28,
   "id": "2bfe2e21-3132-4639-8100-6039e78ad878",
   "metadata": {},
   "outputs": [
    {
     "data": {
      "text/plain": [
       "0.9604938554008616"
      ]
     },
     "execution_count": 28,
     "metadata": {},
     "output_type": "execute_result"
    }
   ],
   "source": [
    "# One way to compare classifiers is to measure the area under the curve (AUC)\n",
    "# A perfect classifier will have an ROC AUC=1, whereas a purely random classifier will have an ROC AUC=0.5\n",
    "\n",
    "from sklearn.metrics import roc_auc_score\n",
    "\n",
    "roc_auc_score(y_train_5, y_scores)"
   ]
  },
  {
   "cell_type": "code",
   "execution_count": 29,
   "id": "ba8fc195-69f3-4842-b519-e0af0f70011f",
   "metadata": {},
   "outputs": [
    {
     "data": {
      "image/png": "[encoded data removed]",
      "text/plain": [
       "<Figure size 432x288 with 1 Axes>"
      ]
     },
     "metadata": {
      "needs_background": "light"
     },
     "output_type": "display_data"
    }
   ],
   "source": [
    "# Let's train a RandomForestClassifier and compare its ROC curve and ROC AUC score to the SGDClassifier\n",
    "\n",
    "from sklearn.ensemble import RandomForestClassifier\n",
    "\n",
    "forest_clf = RandomForestClassifier(random_state=42)\n",
    "y_probas_forest = cross_val_predict(forest_clf, X_train, y_train_5, cv=3, method=\"predict_proba\")\n",
    "\n",
    "# To plot an ROC curve, you need scores, not probabilities. A simple solution is to use the positive class probability as the score\n",
    "y_scores_forest = y_probas_forest[:, 1] # score = proba of positive class\n",
    "fpr_forest, tpr_forest, thresholds_forest = roc_curve(y_train_5, y_scores_forest)\n",
    "\n",
    "# Plot ROC curve\n",
    "plt.plot(fpr, tpr, \"b:\", label=\"SGD\")\n",
    "plot_roc_curve(fpr_forest, tpr_forest, label=\"Random Forest\")\n",
    "plt.legend(loc=\"lower right\")\n",
    "plt.show()"
   ]
  },
  {
   "cell_type": "code",
   "execution_count": 30,
   "id": "1bf44ae0-3d7c-4594-afb0-7291685520bd",
   "metadata": {},
   "outputs": [
    {
     "data": {
      "text/plain": [
       "0.9983436731328145"
      ]
     },
     "execution_count": 30,
     "metadata": {},
     "output_type": "execute_result"
    }
   ],
   "source": [
    "roc_auc_score(y_train_5, y_scores_forest)"
   ]
  },
  {
   "cell_type": "markdown",
   "id": "8808607d-aa25-499e-96d7-68074b3f98aa",
   "metadata": {},
   "source": [
    "## Multiclass Classification"
   ]
  },
  {
   "cell_type": "code",
   "execution_count": 31,
   "id": "052f57bb-cc66-499e-ba7d-746637218bfd",
   "metadata": {},
   "outputs": [
    {
     "name": "stderr",
     "output_type": "stream",
     "text": [
      "/usr/local/lib/python3.9/site-packages/sklearn/base.py:445: UserWarning: X does not have valid feature names, but SGDClassifier was fitted with feature names\n",
      "  warnings.warn(\n"
     ]
    },
    {
     "data": {
      "text/plain": [
       "array([3], dtype=uint8)"
      ]
     },
     "execution_count": 31,
     "metadata": {},
     "output_type": "execute_result"
    }
   ],
   "source": [
    "# Scikit-Learn detects when you try to use a binary classification algorithm for a multi-class classification task\n",
    "# and it automatically runs One-vs-All (except for SVM classifiers for which it uses One-vs-One)\n",
    "# Let's try this with the SGDClassifier\n",
    "\n",
    "sgd_clf.fit(X_train, y_train) # y_train, not y_train_5\n",
    "sgd_clf.predict([some_digit])"
   ]
  },
  {
   "cell_type": "code",
   "execution_count": 32,
   "id": "99d5e61f-08da-4f7b-9e4d-5708954f2dc9",
   "metadata": {},
   "outputs": [
    {
     "name": "stderr",
     "output_type": "stream",
     "text": [
      "/usr/local/lib/python3.9/site-packages/sklearn/base.py:445: UserWarning: X does not have valid feature names, but SGDClassifier was fitted with feature names\n",
      "  warnings.warn(\n"
     ]
    },
    {
     "data": {
      "text/plain": [
       "array([[-31893.03095419, -34419.69069632,  -9530.63950739,\n",
       "          1823.73154031, -22320.14822878,  -1385.80478895,\n",
       "        -26188.91070951, -16147.51323997,  -4604.35491274,\n",
       "        -12050.767298  ]])"
      ]
     },
     "execution_count": 32,
     "metadata": {},
     "output_type": "execute_result"
    }
   ],
   "source": [
    "# Under the hood, Scikit-Learn actually trained 10 binary classifiers, got their decision scores for the image\n",
    "# and selected the class with the highest score\n",
    "# To see that this is indeed the case, you can call the decision_function() method\n",
    "# It now returns 10 scores, one per class\n",
    "\n",
    "some_digit_scores = sgd_clf.decision_function([some_digit])\n",
    "some_digit_scores"
   ]
  },
  {
   "cell_type": "code",
   "execution_count": 33,
   "id": "86e71bda-1e4f-47d8-9f4e-87ae3cce4bcc",
   "metadata": {},
   "outputs": [
    {
     "data": {
      "text/plain": [
       "3"
      ]
     },
     "execution_count": 33,
     "metadata": {},
     "output_type": "execute_result"
    }
   ],
   "source": [
    "# The highest score is the one corresponding to class 3\n",
    "\n",
    "sgd_clf.classes_[np.argmax(some_digit_scores)]"
   ]
  },
  {
   "cell_type": "code",
   "execution_count": 34,
   "id": "77a8934f-29e3-424d-8880-43a9e169bf7f",
   "metadata": {},
   "outputs": [
    {
     "name": "stderr",
     "output_type": "stream",
     "text": [
      "/usr/local/lib/python3.9/site-packages/sklearn/base.py:445: UserWarning: X does not have valid feature names, but OneVsOneClassifier was fitted with feature names\n",
      "  warnings.warn(\n"
     ]
    },
    {
     "data": {
      "text/plain": [
       "array([5], dtype=uint8)"
      ]
     },
     "execution_count": 34,
     "metadata": {},
     "output_type": "execute_result"
    }
   ],
   "source": [
    "# Forcing Scikit-Learn to use One-vs-One or One-vs-All\n",
    "\n",
    "from sklearn.multiclass import OneVsOneClassifier\n",
    "ovo_clf = OneVsOneClassifier(SGDClassifier(random_state=42))\n",
    "ovo_clf.fit(X_train, y_train)\n",
    "ovo_clf.predict([some_digit])"
   ]
  },
  {
   "cell_type": "code",
   "execution_count": 35,
   "id": "2bcf5819-aced-4efc-adf9-e88e31d56154",
   "metadata": {},
   "outputs": [
    {
     "name": "stdout",
     "output_type": "stream",
     "text": [
      "[5]\n",
      "[[0.   0.   0.01 0.08 0.   0.9  0.   0.   0.   0.01]]\n"
     ]
    },
    {
     "name": "stderr",
     "output_type": "stream",
     "text": [
      "/usr/local/lib/python3.9/site-packages/sklearn/base.py:445: UserWarning: X does not have valid feature names, but RandomForestClassifier was fitted with feature names\n",
      "  warnings.warn(\n",
      "/usr/local/lib/python3.9/site-packages/sklearn/base.py:445: UserWarning: X does not have valid feature names, but RandomForestClassifier was fitted with feature names\n",
      "  warnings.warn(\n"
     ]
    }
   ],
   "source": [
    "# Training a Random Forest Classifier\n",
    "forest_clf.fit(X_train, y_train)\n",
    "print(forest_clf.predict([some_digit]))\n",
    "# This time Scikit-Learn did not have to run One-vs-All nor One-vs-One because Random Forest Classifiers can\n",
    "# directly classify images into multiple classes\n",
    "# You can get the list of probabilities that the classifier assigned to each instance for each class\n",
    "print(forest_clf.predict_proba([some_digit]))"
   ]
  },
  {
   "cell_type": "code",
   "execution_count": 36,
   "id": "eb0c69a4-62a4-4776-9e24-107f798ae6a6",
   "metadata": {},
   "outputs": [
    {
     "data": {
      "text/plain": [
       "array([0.87365, 0.85835, 0.8689 ])"
      ]
     },
     "execution_count": 36,
     "metadata": {},
     "output_type": "execute_result"
    }
   ],
   "source": [
    "# Let's evaluate the SGDClassifier accuracy using cross-validation\n",
    "\n",
    "cross_val_score(sgd_clf, X_train, y_train, cv=3, scoring=\"accuracy\")"
   ]
  },
  {
   "cell_type": "code",
   "execution_count": 37,
   "id": "29b4ff85-f14f-4692-8bb6-0869554fd7a4",
   "metadata": {},
   "outputs": [
    {
     "data": {
      "text/plain": [
       "array([0.8983, 0.891 , 0.9018])"
      ]
     },
     "execution_count": 37,
     "metadata": {},
     "output_type": "execute_result"
    }
   ],
   "source": [
    "# What would happen if inputs were scaled ?\n",
    "\n",
    "from sklearn.preprocessing import StandardScaler\n",
    "scaler = StandardScaler()\n",
    "X_train_scaled = scaler.fit_transform(X_train.astype(np.float64))\n",
    "cross_val_score(sgd_clf, X_train_scaled, y_train, cv=3, scoring=\"accuracy\")"
   ]
  },
  {
   "cell_type": "markdown",
   "id": "95de817a-86ff-4e1d-9d38-91ce6758fb4d",
   "metadata": {},
   "source": [
    "## Error Analysis"
   ]
  },
  {
   "cell_type": "code",
   "execution_count": 38,
   "id": "637bc9b1-b6aa-4872-b4e8-feaf20c38a6e",
   "metadata": {},
   "outputs": [],
   "source": [
    "# Analyse the type of errors a model makes\n",
    "# Let's say SGDClassifier is our candidate"
   ]
  },
  {
   "cell_type": "code",
   "execution_count": 39,
   "id": "9587f8fc-bfe6-4a91-afdf-50b80b9f95e7",
   "metadata": {},
   "outputs": [
    {
     "data": {
      "text/plain": [
       "array([[5577,    0,   22,    5,    8,   43,   36,    6,  225,    1],\n",
       "       [   0, 6400,   37,   24,    4,   44,    4,    7,  212,   10],\n",
       "       [  27,   27, 5220,   92,   73,   27,   67,   36,  378,   11],\n",
       "       [  22,   17,  117, 5227,    2,  203,   27,   40,  403,   73],\n",
       "       [  12,   14,   41,    9, 5182,   12,   34,   27,  347,  164],\n",
       "       [  27,   15,   30,  168,   53, 4444,   75,   14,  535,   60],\n",
       "       [  30,   15,   42,    3,   44,   97, 5552,    3,  131,    1],\n",
       "       [  21,   10,   51,   30,   49,   12,    3, 5684,  195,  210],\n",
       "       [  17,   63,   48,   86,    3,  126,   25,   10, 5429,   44],\n",
       "       [  25,   18,   30,   64,  118,   36,    1,  179,  371, 5107]])"
      ]
     },
     "execution_count": 39,
     "metadata": {},
     "output_type": "execute_result"
    }
   ],
   "source": [
    "# Confusion matrix\n",
    "\n",
    "y_train_pred = cross_val_predict(sgd_clf, X_train_scaled, y_train, cv=3)\n",
    "conf_mx = confusion_matrix(y_train, y_train_pred)\n",
    "conf_mx"
   ]
  },
  {
   "cell_type": "code",
   "execution_count": 40,
   "id": "4063a1cb-259b-4b5c-97b1-8b7fb63e6651",
   "metadata": {},
   "outputs": [
    {
     "data": {
      "image/png": "[encoded data removed]",
      "text/plain": [
       "<Figure size 288x288 with 1 Axes>"
      ]
     },
     "metadata": {
      "needs_background": "light"
     },
     "output_type": "display_data"
    }
   ],
   "source": [
    "plt.matshow(conf_mx, cmap=plt.cm.gray)\n",
    "plt.show()"
   ]
  },
  {
   "cell_type": "code",
   "execution_count": 43,
   "id": "6d4784b3-1a2d-4668-8b94-0b614582ebfa",
   "metadata": {},
   "outputs": [
    {
     "data": {
      "image/png": "[encoded data removed]",
      "text/plain": [
       "<Figure size 288x288 with 1 Axes>"
      ]
     },
     "metadata": {
      "needs_background": "light"
     },
     "output_type": "display_data"
    }
   ],
   "source": [
    "# Let's focus the plot on the errors\n",
    "# First, let's divide each value in the confusion matrix by the number of images in the corresponding class,\n",
    "#so we can compare error rates\n",
    "\n",
    "row_sums = conf_mx.sum(axis=1, keepdims=True)\n",
    "norm_conf_mx = conf_mx / row_sums\n",
    "\n",
    "# Now let's fill the diagonal with zeros to keep only the errors, and let's plot the result\n",
    "np.fill_diagonal(norm_conf_mx, 0)\n",
    "plt.matshow(norm_conf_mx, cmap=plt.cm.gray)\n",
    "plt.show()"
   ]
  },
  {
   "cell_type": "markdown",
   "id": "82559c7b-725d-4ad9-a5f4-90448d5a7ed5",
   "metadata": {},
   "source": [
    "## Multilabel Classification"
   ]
  },
  {
   "cell_type": "code",
   "execution_count": null,
   "id": "9a40ab86-3c6e-4e1e-8518-89bcec93afa7",
   "metadata": {},
   "outputs": [],
   "source": []
  }
 ],
 "metadata": {
  "kernelspec": {
   "display_name": "Python 3 (ipykernel)",
   "language": "python",
   "name": "python3"
  },
  "language_info": {
   "codemirror_mode": {
    "name": "ipython",
    "version": 3
   },
   "file_extension": ".py",
   "mimetype": "text/x-python",
   "name": "python",
   "nbconvert_exporter": "python",
   "pygments_lexer": "ipython3",
   "version": "3.9.9"
  }
 },
 "nbformat": 4,
 "nbformat_minor": 5
}
